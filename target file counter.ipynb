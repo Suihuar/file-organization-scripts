{
 "cells": [
  {
   "cell_type": "code",
   "execution_count": 4,
   "metadata": {},
   "outputs": [
    {
     "name": "stdout",
     "output_type": "stream",
     "text": [
      "总共有 272 个符合要求的图片文件.\n"
     ]
    }
   ],
   "source": [
    "# Traverse all folders and their subfolders, and return the total number of .jpg, .png, .jpeg files (sum)\n",
    "import os\n",
    "\n",
    "def count_image_files(root_folder):\n",
    "    extensions = ['.jpg', '.png', '.jpeg', 'gif', 'webp']\n",
    "    total_count = 0\n",
    "    for foldername, subfolders, filenames in os.walk(root_folder):\n",
    "        for filename in filenames:\n",
    "            file_extension = os.path.splitext(filename)[1].lower()  # Get the file extension and convert to lowercase\n",
    "            if file_extension in extensions:\n",
    "                total_count += 1\n",
    "    return total_count\n",
    "\n",
    "# Input multiple folder paths, separated by spaces\n",
    "folders = input(\"Please enter the folder paths to traverse, separated by spaces: \").split()\n",
    "\n",
    "total_files = 0\n",
    "for folder in folders:\n",
    "    total_files += count_image_files(folder)\n",
    "\n",
    "print(f\"There are a total of {total_files} image files that meet the requirements.\")\n"
   ]
  }
 ],
 "metadata": {
  "kernelspec": {
   "display_name": "Python 3",
   "language": "python",
   "name": "python3"
  },
  "language_info": {
   "codemirror_mode": {
    "name": "ipython",
    "version": 3
   },
   "file_extension": ".py",
   "mimetype": "text/x-python",
   "name": "python",
   "nbconvert_exporter": "python",
   "pygments_lexer": "ipython3",
   "version": "3.8.4"
  }
 },
 "nbformat": 4,
 "nbformat_minor": 2
}
